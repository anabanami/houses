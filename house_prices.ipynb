{
 "cells": [
  {
   "cell_type": "code",
   "execution_count": 1,
   "metadata": {
    "scrolled": true
   },
   "outputs": [],
   "source": [
    "import matplotlib.pyplot as plt\n",
    "import matplotlib.cbook as cbook\n",
    "import numpy as np\n",
    "import pandas as pd"
   ]
  },
  {
   "cell_type": "code",
   "execution_count": 2,
   "metadata": {},
   "outputs": [],
   "source": [
    "houses_file = pd.read_csv('House_Prices_by_Small_Area_-_Sale_Year.csv').dropna(0)"
   ]
  },
  {
   "cell_type": "code",
   "execution_count": 3,
   "metadata": {},
   "outputs": [
    {
     "data": {
      "text/html": [
       "<div>\n",
       "<style scoped>\n",
       "    .dataframe tbody tr th:only-of-type {\n",
       "        vertical-align: middle;\n",
       "    }\n",
       "\n",
       "    .dataframe tbody tr th {\n",
       "        vertical-align: top;\n",
       "    }\n",
       "\n",
       "    .dataframe thead th {\n",
       "        text-align: right;\n",
       "    }\n",
       "</style>\n",
       "<table border=\"1\" class=\"dataframe\">\n",
       "  <thead>\n",
       "    <tr style=\"text-align: right;\">\n",
       "      <th></th>\n",
       "      <th>Sale_Year</th>\n",
       "      <th>Small_Area</th>\n",
       "      <th>Type</th>\n",
       "      <th>Median_Price</th>\n",
       "      <th>Transaction_Count</th>\n",
       "    </tr>\n",
       "  </thead>\n",
       "  <tbody>\n",
       "    <tr>\n",
       "      <th>0</th>\n",
       "      <td>2000</td>\n",
       "      <td>Carlton</td>\n",
       "      <td>House/Townhouse</td>\n",
       "      <td>316250.0</td>\n",
       "      <td>116</td>\n",
       "    </tr>\n",
       "    <tr>\n",
       "      <th>1</th>\n",
       "      <td>2000</td>\n",
       "      <td>Carlton</td>\n",
       "      <td>Residential Apartment</td>\n",
       "      <td>220000.0</td>\n",
       "      <td>309</td>\n",
       "    </tr>\n",
       "    <tr>\n",
       "      <th>2</th>\n",
       "      <td>2000</td>\n",
       "      <td>Docklands</td>\n",
       "      <td>Residential Apartment</td>\n",
       "      <td>487300.0</td>\n",
       "      <td>556</td>\n",
       "    </tr>\n",
       "    <tr>\n",
       "      <th>3</th>\n",
       "      <td>2000</td>\n",
       "      <td>East Melbourne</td>\n",
       "      <td>House/Townhouse</td>\n",
       "      <td>622500.0</td>\n",
       "      <td>42</td>\n",
       "    </tr>\n",
       "    <tr>\n",
       "      <th>4</th>\n",
       "      <td>2000</td>\n",
       "      <td>East Melbourne</td>\n",
       "      <td>Residential Apartment</td>\n",
       "      <td>295000.0</td>\n",
       "      <td>139</td>\n",
       "    </tr>\n",
       "    <tr>\n",
       "      <th>...</th>\n",
       "      <td>...</td>\n",
       "      <td>...</td>\n",
       "      <td>...</td>\n",
       "      <td>...</td>\n",
       "      <td>...</td>\n",
       "    </tr>\n",
       "    <tr>\n",
       "      <th>340</th>\n",
       "      <td>2016</td>\n",
       "      <td>South Yarra</td>\n",
       "      <td>House/Townhouse</td>\n",
       "      <td>2135000.0</td>\n",
       "      <td>34</td>\n",
       "    </tr>\n",
       "    <tr>\n",
       "      <th>341</th>\n",
       "      <td>2016</td>\n",
       "      <td>South Yarra</td>\n",
       "      <td>Residential Apartment</td>\n",
       "      <td>555000.0</td>\n",
       "      <td>88</td>\n",
       "    </tr>\n",
       "    <tr>\n",
       "      <th>342</th>\n",
       "      <td>2016</td>\n",
       "      <td>Southbank</td>\n",
       "      <td>Residential Apartment</td>\n",
       "      <td>565000.0</td>\n",
       "      <td>701</td>\n",
       "    </tr>\n",
       "    <tr>\n",
       "      <th>343</th>\n",
       "      <td>2016</td>\n",
       "      <td>West Melbourne (Residential)</td>\n",
       "      <td>House/Townhouse</td>\n",
       "      <td>900000.0</td>\n",
       "      <td>26</td>\n",
       "    </tr>\n",
       "    <tr>\n",
       "      <th>344</th>\n",
       "      <td>2016</td>\n",
       "      <td>West Melbourne (Residential)</td>\n",
       "      <td>Residential Apartment</td>\n",
       "      <td>475000.0</td>\n",
       "      <td>115</td>\n",
       "    </tr>\n",
       "  </tbody>\n",
       "</table>\n",
       "<p>316 rows × 5 columns</p>\n",
       "</div>"
      ],
      "text/plain": [
       "     Sale_Year                    Small_Area                   Type  \\\n",
       "0         2000                       Carlton        House/Townhouse   \n",
       "1         2000                       Carlton  Residential Apartment   \n",
       "2         2000                     Docklands  Residential Apartment   \n",
       "3         2000                East Melbourne        House/Townhouse   \n",
       "4         2000                East Melbourne  Residential Apartment   \n",
       "..         ...                           ...                    ...   \n",
       "340       2016                   South Yarra        House/Townhouse   \n",
       "341       2016                   South Yarra  Residential Apartment   \n",
       "342       2016                     Southbank  Residential Apartment   \n",
       "343       2016  West Melbourne (Residential)        House/Townhouse   \n",
       "344       2016  West Melbourne (Residential)  Residential Apartment   \n",
       "\n",
       "     Median_Price  Transaction_Count  \n",
       "0        316250.0                116  \n",
       "1        220000.0                309  \n",
       "2        487300.0                556  \n",
       "3        622500.0                 42  \n",
       "4        295000.0                139  \n",
       "..            ...                ...  \n",
       "340     2135000.0                 34  \n",
       "341      555000.0                 88  \n",
       "342      565000.0                701  \n",
       "343      900000.0                 26  \n",
       "344      475000.0                115  \n",
       "\n",
       "[316 rows x 5 columns]"
      ]
     },
     "execution_count": 3,
     "metadata": {},
     "output_type": "execute_result"
    }
   ],
   "source": [
    "houses_file"
   ]
  },
  {
   "cell_type": "code",
   "execution_count": 4,
   "metadata": {},
   "outputs": [],
   "source": [
    "area = houses_file.Small_Area"
   ]
  },
  {
   "cell_type": "code",
   "execution_count": null,
   "metadata": {},
   "outputs": [],
   "source": [
    "\"\"\"\n",
    "burbs = []\n",
    "for burb in area:\n",
    "    if burb not in burbs:\n",
    "        burbs.append(burb)\n",
    "print(burbs)\n",
    "\"\"\""
   ]
  },
  {
   "cell_type": "code",
   "execution_count": 5,
   "metadata": {},
   "outputs": [],
   "source": [
    "year = houses_file.Sale_Year"
   ]
  },
  {
   "cell_type": "code",
   "execution_count": 6,
   "metadata": {
    "scrolled": true
   },
   "outputs": [
    {
     "name": "stdout",
     "output_type": "stream",
     "text": [
      "[2000, 2001, 2002, 2003, 2004, 2005, 2006, 2007, 2008, 2009, 2010, 2011, 2012, 2013, 2014, 2015, 2016]\n"
     ]
    }
   ],
   "source": [
    "years = []\n",
    "for i in year:\n",
    "    if i not in years:\n",
    "        years.append(i)\n",
    "print(years)"
   ]
  },
  {
   "cell_type": "code",
   "execution_count": 7,
   "metadata": {},
   "outputs": [],
   "source": [
    "median_price = houses_file.Median_Price"
   ]
  },
  {
   "cell_type": "code",
   "execution_count": 8,
   "metadata": {
    "scrolled": true
   },
   "outputs": [
    {
     "name": "stderr",
     "output_type": "stream",
     "text": [
      "/usr/lib/python3/dist-packages/matplotlib/font_manager.py:1241: UserWarning: findfont: Font family ['xkcd', 'Humor Sans', 'Comic Sans MS', 'StayPuft'] not found. Falling back to DejaVu Sans.\n",
      "  (prop.get_family(), self.defaultFamily[fontext]))\n"
     ]
    },
    {
     "data": {
      "image/png": "[encoded data removed]",
      "text/plain": [
       "<Figure size 432x288 with 1 Axes>"
      ]
     },
     "metadata": {},
     "output_type": "display_data"
    }
   ],
   "source": [
    "#plt.style.use('fivethirtyeight')\n",
    "with plt.xkcd():\n",
    "    plt.scatter(area, median_price, c=year, label='area')\n",
    "\n",
    "    #plt.xlabel('')\n",
    "    plt.ylabel('median price')\n",
    "    plt.legend()\n",
    "    plt.rcParams[\"figure.figsize\"] = (25,15)\n",
    "    plt.show()"
   ]
  },
  {
   "cell_type": "code",
   "execution_count": null,
   "metadata": {},
   "outputs": [],
   "source": [
    "fig, ax = plt.subplots()\n",
    "\n",
    "scatter = ax.scatter(area, median_price, c=year)\n",
    "\n",
    "legend1 = ax.legend(*scatter.legend_elements(),\n",
    "                    loc=\"upper left\", title=\"year\")\n",
    "ax.add_artist(legend1)\n",
    "\n",
    "plt.show()"
   ]
  },
  {
   "cell_type": "code",
   "execution_count": null,
   "metadata": {},
   "outputs": [],
   "source": []
  }
 ],
 "metadata": {
  "kernelspec": {
   "display_name": "Python 3",
   "language": "python",
   "name": "python3"
  },
  "language_info": {
   "codemirror_mode": {
    "name": "ipython",
    "version": 3
   },
   "file_extension": ".py",
   "mimetype": "text/x-python",
   "name": "python",
   "nbconvert_exporter": "python",
   "pygments_lexer": "ipython3",
   "version": "3.7.5"
  }
 },
 "nbformat": 4,
 "nbformat_minor": 4
}
